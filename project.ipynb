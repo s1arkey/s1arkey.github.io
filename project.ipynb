{
  "cells": [
    {
      "cell_type": "raw",
      "metadata": {},
      "source": [
        "---\n",
        "title: DANL Project\n",
        "subtitle: \"Data-Driven Mastery: Unlocking Business Potential\"\n",
        "author: Jake Starkey\n",
        "  - Name Jake Starkey\n",
        "  - Name Owen Ellick\n",
        "  - Name Dylan Thody\n",
        "\n",
        "\n",
        "toc: true\n",
        "toc-title: \"Table of Contents\"\n",
        "toc-depth: 2\n",
        "number-sections: true\n",
        "\n",
        "fig-width: 9\n",
        "\n",
        "execute:\n",
        "  code-tools: true\n",
        "  message: false\n",
        "  warning: false\n",
        "\n",
        "from: markdown+emoji\n",
        "---"
      ],
      "id": "987b94d1"
    },
    {
      "cell_type": "markdown",
      "metadata": {},
      "source": [
        "## Analyzing ESG and Financial Data for Investment Decision Making\n"
      ],
      "id": "18b97520"
    },
    {
      "cell_type": "code",
      "metadata": {},
      "source": [
        "import pandas as pd\n",
        "import seaborn as sns\n",
        "import matplotlib.pyplot as plt\n",
        "\n",
        "balance_sheet = pd.read_csv('yfinance-balance-sheet.csv')\n",
        "stock_data = pd.read_csv('yfinance-history.csv')\n",
        "esg_proj_data = pd.read_csv('esg_proj_data.csv')"
      ],
      "id": "caa02d85",
      "execution_count": null,
      "outputs": []
    },
    {
      "cell_type": "markdown",
      "metadata": {},
      "source": [
        "## 1 Introduction\n",
        "\n",
        "ESG(Environmental, Social, and Governance) factors are increasingly being considered by investors for making informed investment decisions. Understanding the relationship between ESG metrics and financial performance can provide valuable insights into a company's sustainability and long-term viability.\n",
        "\n",
        "This project aims to analyze the relationship between ESG metrics and financial/accounting data to identify any correlations and trends that may exist. By doing so, we seek to provide investors with a better understanding of how ESG factors impact financial performance and assist them in making more sustainable investment decisions.\n",
        "\n",
        "The project utilizes Python scripts to collect financial, accounting, and ESG data. The financial and accounting data is obtained using the yfinance library, while Selenium is employed to gather ESG data from the Sustainability Section of company webpages on Yahoo! Finance. ##Descripted Statistics ##Ungrouped Statistics for Balance Sheets\n"
      ],
      "id": "270ae962"
    },
    {
      "cell_type": "code",
      "metadata": {},
      "source": [
        "print(balance_sheet.describe())"
      ],
      "id": "83e895aa",
      "execution_count": null,
      "outputs": []
    },
    {
      "cell_type": "markdown",
      "metadata": {},
      "source": [
        "# Grouped stats for balance sheets\n"
      ],
      "id": "f23c1c3a"
    },
    {
      "cell_type": "code",
      "metadata": {},
      "source": [
        "balance_sheet[['Total Assets','Total Debt']].describe()"
      ],
      "id": "b3fc539b",
      "execution_count": null,
      "outputs": []
    },
    {
      "cell_type": "markdown",
      "metadata": {},
      "source": [
        "## Y-finance stats ungrouped\n"
      ],
      "id": "d707ac17"
    },
    {
      "cell_type": "code",
      "metadata": {},
      "source": [
        "print(stock_data.describe())"
      ],
      "id": "f005df26",
      "execution_count": null,
      "outputs": []
    },
    {
      "cell_type": "markdown",
      "metadata": {},
      "source": [
        "# Y-finance stats volume\n"
      ],
      "id": "c1a108e9"
    },
    {
      "cell_type": "code",
      "metadata": {},
      "source": [
        "stock_data['Volume'].describe()"
      ],
      "id": "f257e335",
      "execution_count": null,
      "outputs": []
    },
    {
      "cell_type": "markdown",
      "metadata": {},
      "source": [
        "## ESG stats ungrouped\n"
      ],
      "id": "9a135eb3"
    },
    {
      "cell_type": "code",
      "metadata": {},
      "source": [
        "print(esg_proj_data.describe())"
      ],
      "id": "a5accf33",
      "execution_count": null,
      "outputs": []
    },
    {
      "cell_type": "markdown",
      "metadata": {},
      "source": [
        "# Grouped\n"
      ],
      "id": "1e05b7b7"
    },
    {
      "cell_type": "code",
      "metadata": {},
      "source": [
        "esg_proj_data['Total ESG Risk Score' ].describe()\n",
        "esg_proj_data['Controversy Level'].describe()"
      ],
      "id": "f0ce4565",
      "execution_count": null,
      "outputs": []
    },
    {
      "cell_type": "markdown",
      "metadata": {},
      "source": [
        "## Heatmap\n"
      ],
      "id": "78870abe"
    },
    {
      "cell_type": "code",
      "metadata": {},
      "source": [
        "numeric_data = esg_proj_data.select_dtypes(include='number')\n",
        "corr_matrix = numeric_data.corr()\n",
        "plt.figure(figsize=(8, 6))\n",
        "\n",
        "sns.heatmap(corr_matrix, annot=True, cmap='coolwarm', fmt=\".2f\", linewidths=.5)\n",
        "\n",
        "\n",
        "plt.title('Correlation Heatmap with Varied Correlations')\n",
        "\n",
        "\n",
        "plt.show()"
      ],
      "id": "ed5e5e0a",
      "execution_count": null,
      "outputs": []
    },
    {
      "cell_type": "markdown",
      "metadata": {},
      "source": [
        "## Question 1\n",
        "\n",
        "What is the distribution of closing prices for each company?\n"
      ],
      "id": "eb944907"
    },
    {
      "cell_type": "code",
      "metadata": {},
      "source": [
        "stock_data = pd.read_csv('yfinance-history.csv')\n",
        "\n",
        "# Convert 'Date' column to datetime format\n",
        "stock_data['Date'] = pd.to_datetime(stock_data['Date'])\n",
        "\n",
        "# Filter data for the last year\n",
        "one_year_ago = pd.Timestamp.now() - pd.DateOffset(years=1)\n",
        "filtered_data = stock_data[stock_data['Date'] >= one_year_ago]\n",
        "\n",
        "# Plot histogram for each company's closing prices\n",
        "plt.figure(figsize=(12, 8))\n",
        "sns.histplot(data=filtered_data, x='Close', hue='ticker_symbol', bins=20, kde=True)\n",
        "plt.title('Distribution of Closing Prices for Each Company Over the Last Year')\n",
        "plt.xlabel('Closing Price')\n",
        "plt.ylabel('Frequency')\n",
        "plt.legend(title='Company')\n",
        "plt.show()"
      ],
      "id": "457639f9",
      "execution_count": null,
      "outputs": []
    },
    {
      "cell_type": "markdown",
      "metadata": {},
      "source": [
        "The graph reveals insights into the variability and central tendency of closing prices across different companies. Companies with narrower and taller peaks in their histograms exhibit closing prices concentrated around specific values, indicating less variability. Conversely, broader and flatter histograms suggest a wider range of closing prices and greater variability in stock performance.\n",
        "\n",
        "## Question 2\n",
        "\n",
        "Whats the distribution of ESG score? And Which factor of ESG tends to cause the most risk?\n"
      ],
      "id": "6e19ec77"
    },
    {
      "cell_type": "code",
      "metadata": {},
      "source": [
        "def plot_distributions(df, title_prefix):\n",
        "    for col in df.select_dtypes(include=['float64', 'int64']).columns:\n",
        "        plt.figure(figsize=(10, 6))\n",
        "        sns.histplot(df[col].dropna(), bins=20, kde=True)\n",
        "        plt.title(f'Distribution of {title_prefix} {col}')\n",
        "        plt.xlabel(col)\n",
        "        plt.ylabel('Frequency')\n",
        "        plt.show()\n",
        "   \n",
        "\n",
        "# Plot distributions for ESG data\n",
        "plot_distributions(esg_proj_data, 'ESG Data')"
      ],
      "id": "b7315b07",
      "execution_count": null,
      "outputs": []
    },
    {
      "cell_type": "markdown",
      "metadata": {},
      "source": [
        "By visually inspecting the histograms, we can understand the distribution of ESG scores. The Environmental aspect of ESG causes companys the most risk.\\\n",
        "\n",
        "## Question 3\n",
        "\n",
        "Which companies how the worst controversy level?\n"
      ],
      "id": "d69a8361"
    },
    {
      "cell_type": "code",
      "metadata": {},
      "source": [
        "top_10_companies = esg_proj_data.sort_values(by='Total ESG Risk Score', ascending=False).head(10)\n",
        "\n",
        "print(top_10_companies)"
      ],
      "id": "23d3f0bf",
      "execution_count": null,
      "outputs": []
    },
    {
      "cell_type": "markdown",
      "metadata": {},
      "source": [
        "Companies with the worst controversy level are companies that deal with heavy machinery. For example, Boeing and Caterpillar Inc., both have a controversy level of a 4.0 and are the worst out of the top ten companies. Boeing, which builds airplanes, and Caterpillar, which build cranes and other machinery, both fall into the same category.\n",
        "## Question 4\n",
        "\n",
        "How do the successful companies compare in terms of ESG Risk Score and Controversy Level?\n"
      ],
      "id": "3ae011a2"
    },
    {
      "cell_type": "code",
      "metadata": {},
      "source": [
        "df = (esg_proj_data\n",
        "       .sort_values(['Total ESG Risk Score', 'Controversy Level'])\n",
        "       [[\"Comapny Name\", 'Comapny Name', 'Total ESG Risk Score', 'Controversy Level']]\n",
        "       .drop_duplicates(subset = 'Comapny Name')\n",
        "       )\n",
        "\n",
        "df"
      ],
      "id": "001d3955",
      "execution_count": null,
      "outputs": []
    },
    {
      "cell_type": "markdown",
      "metadata": {},
      "source": [
        "Insight on Correlation Among Stock Close, ESG Risk Score, and Controversy Level\n",
        "\n",
        "The heatmap analysis surprisingly reveals minimal correlation among a company's stock Close value, ESG Risk Score, and Controversy Level. However, the strongest correlation is found between the ESG Risk Score and Controversy Level. This highlights the close link between sustainability metrics and controversies, suggesting that investors focused on ethical considerations should prioritize ESG ratings and associated controversies when making investment decisions.\n"
      ],
      "id": "dbcd9464"
    },
    {
      "cell_type": "code",
      "metadata": {},
      "source": [
        "Heatmap = esg_proj_data[[ 'Total ESG Risk Score', 'Controversy Level']].corr()\n",
        "\n",
        "plt.figure(figsize=(8, 6))\n",
        "\n",
        "sns.heatmap(corr, annot=True, cmap='coolwarm', fmt=\".2f\", linewidths=.5)\n",
        "\n",
        "# Title of the heatmap\n",
        "plt.title('Correlation Heatmap with Varied Correlations')\n",
        "\n",
        "# Display the heatmap\n",
        "plt.show()"
      ],
      "id": "e657fd15",
      "execution_count": null,
      "outputs": []
    },
    {
      "cell_type": "markdown",
      "metadata": {},
      "source": [
        "## Conclusion \n",
        "\n",
        "In this project, we conducted an analysis focusing on stock prices, Environmental, Social, and Governance (ESG) scores, controversy levels, and their correlations. Here's a concise summary of our findings:\n",
        "\n",
        "Closing Prices Distribution:\n",
        "\n",
        "Histograms revealed variability in closing prices across companies. Narrow peaks indicate less variability, while broader ones suggest greater variability.\n",
        "\n",
        "ESG Scores Distribution:\n",
        "\n",
        "The Environmental aspect of ESG posed the most risk, as seen in the score distribution.\n",
        "\n",
        "Companies with Worst Controversy Level:\n",
        "\n",
        "Heavy machinery companies like Boeing and Caterpillar Inc. had the highest controversy levels, hinting at industry-specific trends.\n",
        "\n",
        "Comparison of Successful Companies in ESG:\n",
        "\n",
        "Successful companies showed varying ESG risk and controversy levels, emphasizing the need for sustainability in investment decisions.\n",
        "\n",
        "Insight on Correlation:\n",
        "\n",
        "While stock prices showed minimal correlation with ESG factors, a strong link was observed between ESG risk scores and controversy levels.\n",
        "\n",
        "Conclusion:\n",
        "\n",
        "Considering ESG factors alongside financial metrics is crucial for investors, as sustainability and controversies can significantly impact long-term performance.\n",
        "This analysis provides valuable insights for ethical investment decisions, highlighting the importance of integrating sustainability considerations into financial analysis.\n",
        "## References\n",
        "\n",
        "Collaboraters:Owen Ellick, Dylan Thody\n",
        "\n",
        "ChatGPT Helped with errors and code\n",
        "\n",
        "yahoo finance: https://finance.yahoo.com/\n"
      ],
      "id": "33d75dc0"
    }
  ],
  "metadata": {
    "kernelspec": {
      "name": "python3",
      "language": "python",
      "display_name": "Python 3 (ipykernel)"
    }
  },
  "nbformat": 4,
  "nbformat_minor": 5
}